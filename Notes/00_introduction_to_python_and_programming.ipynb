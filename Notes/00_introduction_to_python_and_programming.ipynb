{
 "cells": [
  {
   "attachments": {},
   "cell_type": "markdown",
   "metadata": {},
   "source": [
    "## Chapter 1. Introduction to Python and programming"
   ]
  },
  {
   "attachments": {},
   "cell_type": "markdown",
   "metadata": {},
   "source": [
    "### Prerequisites\n",
    "There are not prerequistes for this chapter. However, it is recommended that you have some basic knowledge of programming. If you are new to programming, you can start with the [Python tutorial](https://docs.python.org/3/tutorial/index.html) and the [Python documentation](https://docs.python.org/3/)."
   ]
  },
  {
   "attachments": {},
   "cell_type": "markdown",
   "metadata": {},
   "source": [
    "### Objective\n",
    "The main goal of this chapter is to prepare the student for further studies in the fiel of cryptography. For this, we will introduce the student to the Python programming language and the basic concepts of programming."
   ]
  },
  {
   "attachments": {},
   "cell_type": "markdown",
   "metadata": {},
   "source": [
    "### Why cryptography?\n",
    "Cryptography is a very important field of computer science. It is used in many applications, such as secure communication, secure storage, secure transactions, etc. In this course, we will focus on the mathematical foundations of cryptography. However, we will also see some applications of cryptography in the real world."
   ]
  },
  {
   "attachments": {},
   "cell_type": "markdown",
   "metadata": {},
   "source": [
    "### Why Python?\n",
    "Python is a very popular programming language. It is used in many applications, such as web development, data science, machine learning, etc. In this course, we will use Python to implement some cryptographic algorithms. However, we will also see some applications of Python in the real world."
   ]
  },
  {
   "attachments": {},
   "cell_type": "markdown",
   "metadata": {},
   "source": [
    "### Working with Jupyter notebooks\n",
    "Google Colab is a free cloud-based service that allows you to run and share Jupyte notebooks. Here's how to get started:\n",
    "1. Go to [Google Colab](https://colab.research.google.com/) and sign in with your Google account.\n",
    "2. Click on \"New Notebook\" to create a new notebook.\n",
    "3. You can choose between and blank notebook or a pre-existing one from Google or GitHub.\n",
    "4. Once you've created a notebook, you can start writing and running Python code. Google Colab provides a Python environment, including support for popular libraries like NumPy, Pandas, Sympy, Matplotlib, etc.\n",
    "5. To run a cell in your notebook, click on it and then click on the \"Play\" button in the toolbar above. Alternatively, you can press Ctrl+Enter to run the cell.\n",
    "6. You can also run all the cells in your notebook by clicking on \"Runtime\" in the toolbar above and then clicking on \"Run all\".\n",
    "7. You can add new cells by clicking on the \"+\" button at the top of the page, or by pressing Ctrl+M, then B.\n",
    "8. You can change the type of a cell by clicking on the dropdown menu at the top of the page, or by pressing Ctrl+M, then M.\n",
    "9. Google Colab also allows you to upload and download files, connect to Google Drive, and use GPUs and TPUs for faster computation.\n",
    "10. You can find more information about Google Colab [here](https://colab.research.google.com/notebooks/basic_features_overview.ipynb).\n",
    "\n",
    "This is a Jupyter notebook. You can find more information about Jupyter notebooks [here](https://jupyter.org/). That's it! With Google Colab, you can easily run and share Jupyter notebooks. You can also run Jupyter notebooks locally on your computer. To do so, you need to install Jupyter on your computer. You can find more information about Jupyter [here](https://jupyter.org/)."
   ]
  },
  {
   "cell_type": "markdown",
   "metadata": {},
   "source": []
  }
 ],
 "metadata": {
  "kernelspec": {
   "display_name": "Python 3",
   "language": "python",
   "name": "python3"
  },
  "language_info": {
   "codemirror_mode": {
    "name": "ipython",
    "version": 3
   },
   "file_extension": ".py",
   "mimetype": "text/x-python",
   "name": "python",
   "nbconvert_exporter": "python",
   "pygments_lexer": "ipython3",
   "version": "3.11.0"
  },
  "orig_nbformat": 4,
  "vscode": {
   "interpreter": {
    "hash": "5c7b89af1651d0b8571dde13640ecdccf7d5a6204171d6ab33e7c296e100e08a"
   }
  }
 },
 "nbformat": 4,
 "nbformat_minor": 2
}
