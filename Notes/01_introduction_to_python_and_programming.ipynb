{
 "cells": [
  {
   "attachments": {},
   "cell_type": "markdown",
   "metadata": {},
   "source": [
    "## Chapter 1. Introduction to Python and programming"
   ]
  },
  {
   "attachments": {},
   "cell_type": "markdown",
   "metadata": {},
   "source": [
    "### Prerequisites\n",
    "There are not prerequistes for this chapter. However, it is recommended that you have some basic knowledge of programming. If you are new to programming, you can start with the [Python tutorial](https://docs.python.org/3/tutorial/index.html) and the [Python documentation](https://docs.python.org/3/)."
   ]
  },
  {
   "attachments": {},
   "cell_type": "markdown",
   "metadata": {},
   "source": [
    "### Objective\n",
    "The main goal of this chapter is to prepare the student for further studies in the fiel of cryptography. For this, we will introduce the student to the Python programming language and the basic concepts of programming."
   ]
  },
  {
   "attachments": {},
   "cell_type": "markdown",
   "metadata": {},
   "source": [
    "### Why cryptography?\n",
    "Cryptography is a very important field of computer science. It is used in many applications, such as secure communication, secure storage, secure transactions, etc. In this course, we will focus on the mathematical foundations of cryptography. However, we will also see some applications of cryptography in the real world."
   ]
  },
  {
   "attachments": {},
   "cell_type": "markdown",
   "metadata": {},
   "source": [
    "### Why Python?\n",
    "Python is a very popular programming language. It is used in many applications, such as web development, data science, machine learning, etc. In this course, we will use Python to implement some cryptographic algorithms. However, we will also see some applications of Python in the real world."
   ]
  },
  {
   "attachments": {},
   "cell_type": "markdown",
   "metadata": {},
   "source": [
    "### Working with Jupyter notebooks in Google Colab\n",
    "Google Colab is a free cloud-based service that allows you to run and share Jupyter notebooks. Here's how to get started:\n",
    "1. Go to [Google Colab](https://colab.research.google.com/) and sign in with your Google account.\n",
    "2. Click on \"New Notebook\" to create a new notebook.\n",
    "3. You can choose between and blank notebook or a pre-existing one from Google or GitHub.\n",
    "4. Once you've created a notebook, you can start writing and running Python code. Google Colab provides a Python environment, including support for popular libraries like NumPy, Pandas, Sympy, Matplotlib, etc.\n",
    "5. To run a cell in your notebook, click on it and then click on the \"Play\" button in the toolbar above. Alternatively, you can press Ctrl+Enter to run the cell.\n",
    "6. You can also run all the cells in your notebook by clicking on \"Runtime\" in the toolbar above and then clicking on \"Run all\".\n",
    "7. You can add new cells by clicking on the \"+\" button at the top of the page, or by pressing Ctrl+M, then B.\n",
    "8. You can change the type of a cell by clicking on the dropdown menu at the top of the page, or by pressing Ctrl+M, then M.\n",
    "9. Google Colab also allows you to upload and download files, connect to Google Drive, and use GPUs and TPUs for faster computation.\n",
    "10. You can find more information about Google Colab [here](https://colab.research.google.com/notebooks/basic_features_overview.ipynb).\n",
    "\n",
    "This is a Jupyter notebook. You can find more information about Jupyter notebooks [here](https://jupyter.org/). That's it! With Google Colab, you can easily run and share Jupyter notebooks. You can also run Jupyter notebooks locally on your computer. To do so, you need to install Jupyter on your computer. You can find more information about Jupyter [here](https://jupyter.org/)."
   ]
  },
  {
   "attachments": {},
   "cell_type": "markdown",
   "metadata": {},
   "source": [
    "### Variables and data types\n",
    "Python supports several built-in data types, including:\n",
    "* Numbers (integers, floating-point numbers, complex numbers)\n",
    "* Strings\n",
    "* Boolean (True, False)\n",
    "* Lists\n",
    "* Tuples\n",
    "* Sets\n",
    "* Dictionaries\n",
    "\n",
    "Let's explore some of these data types in more detail.\n",
    "* Numbers: As mentioned earlier, Python supports integers, floating-point numbers, and complex numbers. You can use mathematical operators like +, -, *, /, //, %, **, etc. to perform arithmetic operations on numbers. You can also use the built-in functions `int()`, `float()`, and `complex()` to convert between different data types. For example:"
   ]
  },
  {
   "cell_type": "code",
   "execution_count": 9,
   "metadata": {},
   "outputs": [
    {
     "data": {
      "text/plain": [
       "5"
      ]
     },
     "execution_count": 9,
     "metadata": {},
     "output_type": "execute_result"
    }
   ],
   "source": [
    "2 + 3"
   ]
  },
  {
   "cell_type": "code",
   "execution_count": 10,
   "metadata": {},
   "outputs": [
    {
     "data": {
      "text/plain": [
       "-1"
      ]
     },
     "execution_count": 10,
     "metadata": {},
     "output_type": "execute_result"
    }
   ],
   "source": [
    "2 - 3"
   ]
  },
  {
   "cell_type": "code",
   "execution_count": 11,
   "metadata": {},
   "outputs": [
    {
     "data": {
      "text/plain": [
       "6"
      ]
     },
     "execution_count": 11,
     "metadata": {},
     "output_type": "execute_result"
    }
   ],
   "source": [
    "2 * 3"
   ]
  },
  {
   "cell_type": "code",
   "execution_count": 12,
   "metadata": {},
   "outputs": [
    {
     "data": {
      "text/plain": [
       "0.6666666666666666"
      ]
     },
     "execution_count": 12,
     "metadata": {},
     "output_type": "execute_result"
    }
   ],
   "source": [
    "2 / 3"
   ]
  },
  {
   "cell_type": "code",
   "execution_count": 13,
   "metadata": {},
   "outputs": [
    {
     "data": {
      "text/plain": [
       "0.6666666666666666"
      ]
     },
     "execution_count": 13,
     "metadata": {},
     "output_type": "execute_result"
    }
   ],
   "source": [
    "2 / 3"
   ]
  },
  {
   "cell_type": "code",
   "execution_count": 14,
   "metadata": {},
   "outputs": [
    {
     "data": {
      "text/plain": [
       "0"
      ]
     },
     "execution_count": 14,
     "metadata": {},
     "output_type": "execute_result"
    }
   ],
   "source": [
    "2 // 3"
   ]
  },
  {
   "cell_type": "code",
   "execution_count": 15,
   "metadata": {},
   "outputs": [
    {
     "data": {
      "text/plain": [
       "2"
      ]
     },
     "execution_count": 15,
     "metadata": {},
     "output_type": "execute_result"
    }
   ],
   "source": [
    "2 % 3"
   ]
  },
  {
   "cell_type": "code",
   "execution_count": 16,
   "metadata": {},
   "outputs": [
    {
     "data": {
      "text/plain": [
       "2"
      ]
     },
     "execution_count": 16,
     "metadata": {},
     "output_type": "execute_result"
    }
   ],
   "source": [
    "int(2.5)"
   ]
  },
  {
   "cell_type": "code",
   "execution_count": 17,
   "metadata": {},
   "outputs": [
    {
     "data": {
      "text/plain": [
       "2.0"
      ]
     },
     "execution_count": 17,
     "metadata": {},
     "output_type": "execute_result"
    }
   ],
   "source": [
    "float(2)"
   ]
  },
  {
   "cell_type": "code",
   "execution_count": 18,
   "metadata": {},
   "outputs": [
    {
     "data": {
      "text/plain": [
       "(2+0j)"
      ]
     },
     "execution_count": 18,
     "metadata": {},
     "output_type": "execute_result"
    }
   ],
   "source": [
    "complex(2)"
   ]
  },
  {
   "attachments": {},
   "cell_type": "markdown",
   "metadata": {},
   "source": [
    "* Strings: Strings are sequences of characters. You can use the built-in function `str()` to convert between different data types. For example:"
   ]
  },
  {
   "cell_type": "code",
   "execution_count": 19,
   "metadata": {},
   "outputs": [
    {
     "data": {
      "text/plain": [
       "'Hello World'"
      ]
     },
     "execution_count": 19,
     "metadata": {},
     "output_type": "execute_result"
    }
   ],
   "source": [
    "'Hello World'"
   ]
  },
  {
   "cell_type": "code",
   "execution_count": 20,
   "metadata": {},
   "outputs": [
    {
     "data": {
      "text/plain": [
       "'123'"
      ]
     },
     "execution_count": 20,
     "metadata": {},
     "output_type": "execute_result"
    }
   ],
   "source": [
    "str(123)"
   ]
  },
  {
   "attachments": {},
   "cell_type": "markdown",
   "metadata": {},
   "source": [
    "* Boolean: Boolean values are either True or False. You can use the built-in function `bool()` to convert between different data types. For example:"
   ]
  },
  {
   "cell_type": "code",
   "execution_count": 21,
   "metadata": {},
   "outputs": [
    {
     "data": {
      "text/plain": [
       "True"
      ]
     },
     "execution_count": 21,
     "metadata": {},
     "output_type": "execute_result"
    }
   ],
   "source": [
    "True"
   ]
  },
  {
   "cell_type": "code",
   "execution_count": 22,
   "metadata": {},
   "outputs": [
    {
     "data": {
      "text/plain": [
       "False"
      ]
     },
     "execution_count": 22,
     "metadata": {},
     "output_type": "execute_result"
    }
   ],
   "source": [
    "False"
   ]
  },
  {
   "cell_type": "code",
   "execution_count": 23,
   "metadata": {},
   "outputs": [
    {
     "data": {
      "text/plain": [
       "False"
      ]
     },
     "execution_count": 23,
     "metadata": {},
     "output_type": "execute_result"
    }
   ],
   "source": [
    "bool(0)"
   ]
  },
  {
   "cell_type": "code",
   "execution_count": 24,
   "metadata": {},
   "outputs": [
    {
     "data": {
      "text/plain": [
       "True"
      ]
     },
     "execution_count": 24,
     "metadata": {},
     "output_type": "execute_result"
    }
   ],
   "source": [
    "bool(1)"
   ]
  },
  {
   "cell_type": "code",
   "execution_count": 25,
   "metadata": {},
   "outputs": [
    {
     "data": {
      "text/plain": [
       "True"
      ]
     },
     "execution_count": 25,
     "metadata": {},
     "output_type": "execute_result"
    }
   ],
   "source": [
    "bool(2)"
   ]
  },
  {
   "cell_type": "code",
   "execution_count": 26,
   "metadata": {},
   "outputs": [
    {
     "data": {
      "text/plain": [
       "True"
      ]
     },
     "execution_count": 26,
     "metadata": {},
     "output_type": "execute_result"
    }
   ],
   "source": [
    "bool(-1)"
   ]
  },
  {
   "cell_type": "code",
   "execution_count": 27,
   "metadata": {},
   "outputs": [
    {
     "data": {
      "text/plain": [
       "False"
      ]
     },
     "execution_count": 27,
     "metadata": {},
     "output_type": "execute_result"
    }
   ],
   "source": [
    "bool(0.0)"
   ]
  },
  {
   "cell_type": "code",
   "execution_count": 28,
   "metadata": {},
   "outputs": [
    {
     "data": {
      "text/plain": [
       "True"
      ]
     },
     "execution_count": 28,
     "metadata": {},
     "output_type": "execute_result"
    }
   ],
   "source": [
    "bool(0.1)"
   ]
  },
  {
   "cell_type": "code",
   "execution_count": 29,
   "metadata": {},
   "outputs": [
    {
     "data": {
      "text/plain": [
       "True"
      ]
     },
     "execution_count": 29,
     "metadata": {},
     "output_type": "execute_result"
    }
   ],
   "source": [
    "bool(-0.1)"
   ]
  },
  {
   "cell_type": "code",
   "execution_count": 30,
   "metadata": {},
   "outputs": [
    {
     "data": {
      "text/plain": [
       "False"
      ]
     },
     "execution_count": 30,
     "metadata": {},
     "output_type": "execute_result"
    }
   ],
   "source": [
    "bool('')"
   ]
  },
  {
   "cell_type": "code",
   "execution_count": 31,
   "metadata": {},
   "outputs": [
    {
     "data": {
      "text/plain": [
       "True"
      ]
     },
     "execution_count": 31,
     "metadata": {},
     "output_type": "execute_result"
    }
   ],
   "source": [
    "bool('Hello World')"
   ]
  },
  {
   "cell_type": "code",
   "execution_count": 32,
   "metadata": {},
   "outputs": [
    {
     "data": {
      "text/plain": [
       "False"
      ]
     },
     "execution_count": 32,
     "metadata": {},
     "output_type": "execute_result"
    }
   ],
   "source": [
    "bool([])"
   ]
  },
  {
   "cell_type": "code",
   "execution_count": 33,
   "metadata": {},
   "outputs": [
    {
     "data": {
      "text/plain": [
       "True"
      ]
     },
     "execution_count": 33,
     "metadata": {},
     "output_type": "execute_result"
    }
   ],
   "source": [
    "bool([1, 2, 3])"
   ]
  },
  {
   "cell_type": "code",
   "execution_count": 34,
   "metadata": {},
   "outputs": [
    {
     "data": {
      "text/plain": [
       "False"
      ]
     },
     "execution_count": 34,
     "metadata": {},
     "output_type": "execute_result"
    }
   ],
   "source": [
    "bool(())"
   ]
  },
  {
   "cell_type": "code",
   "execution_count": 35,
   "metadata": {},
   "outputs": [
    {
     "data": {
      "text/plain": [
       "True"
      ]
     },
     "execution_count": 35,
     "metadata": {},
     "output_type": "execute_result"
    }
   ],
   "source": [
    "bool((1, 2, 3))"
   ]
  },
  {
   "cell_type": "code",
   "execution_count": 36,
   "metadata": {},
   "outputs": [
    {
     "data": {
      "text/plain": [
       "False"
      ]
     },
     "execution_count": 36,
     "metadata": {},
     "output_type": "execute_result"
    }
   ],
   "source": [
    "bool({})"
   ]
  },
  {
   "cell_type": "code",
   "execution_count": 37,
   "metadata": {},
   "outputs": [
    {
     "data": {
      "text/plain": [
       "True"
      ]
     },
     "execution_count": 37,
     "metadata": {},
     "output_type": "execute_result"
    }
   ],
   "source": [
    "bool({'a': 1, 'b': 2})"
   ]
  },
  {
   "cell_type": "code",
   "execution_count": 38,
   "metadata": {},
   "outputs": [
    {
     "data": {
      "text/plain": [
       "bool"
      ]
     },
     "execution_count": 38,
     "metadata": {},
     "output_type": "execute_result"
    }
   ],
   "source": [
    "type(True)"
   ]
  },
  {
   "cell_type": "code",
   "execution_count": 39,
   "metadata": {},
   "outputs": [
    {
     "data": {
      "text/plain": [
       "bool"
      ]
     },
     "execution_count": 39,
     "metadata": {},
     "output_type": "execute_result"
    }
   ],
   "source": [
    "type(False)"
   ]
  },
  {
   "attachments": {},
   "cell_type": "markdown",
   "metadata": {},
   "source": [
    "* Lists: Lists are mutable sequences of objects. You can use the built-in function `list()` to convert between different data types. For example:"
   ]
  },
  {
   "cell_type": "code",
   "execution_count": 40,
   "metadata": {},
   "outputs": [
    {
     "data": {
      "text/plain": [
       "[1, 2, 3]"
      ]
     },
     "execution_count": 40,
     "metadata": {},
     "output_type": "execute_result"
    }
   ],
   "source": [
    "[1, 2, 3]"
   ]
  },
  {
   "cell_type": "code",
   "execution_count": 41,
   "metadata": {},
   "outputs": [
    {
     "data": {
      "text/plain": [
       "['H', 'e', 'l', 'l', 'o', ' ', 'W', 'o', 'r', 'l', 'd']"
      ]
     },
     "execution_count": 41,
     "metadata": {},
     "output_type": "execute_result"
    }
   ],
   "source": [
    "list('Hello World')"
   ]
  },
  {
   "cell_type": "code",
   "execution_count": 42,
   "metadata": {},
   "outputs": [
    {
     "data": {
      "text/plain": [
       "[1, 2, 3]"
      ]
     },
     "execution_count": 42,
     "metadata": {},
     "output_type": "execute_result"
    }
   ],
   "source": [
    "list((1, 2, 3))"
   ]
  },
  {
   "cell_type": "code",
   "execution_count": 43,
   "metadata": {},
   "outputs": [
    {
     "data": {
      "text/plain": [
       "[1, 2, 3]"
      ]
     },
     "execution_count": 43,
     "metadata": {},
     "output_type": "execute_result"
    }
   ],
   "source": [
    "list({1, 2, 3})"
   ]
  },
  {
   "cell_type": "code",
   "execution_count": 44,
   "metadata": {},
   "outputs": [
    {
     "data": {
      "text/plain": [
       "['a', 'b']"
      ]
     },
     "execution_count": 44,
     "metadata": {},
     "output_type": "execute_result"
    }
   ],
   "source": [
    "list({'a': 1, 'b': 2})"
   ]
  },
  {
   "attachments": {},
   "cell_type": "markdown",
   "metadata": {},
   "source": [
    "* Tuples: Tuples are immutable sequences of objects. You can use the built-in function `tuple()` to convert between different data types. For example:"
   ]
  },
  {
   "cell_type": "code",
   "execution_count": 45,
   "metadata": {},
   "outputs": [
    {
     "data": {
      "text/plain": [
       "(1, 2, 3)"
      ]
     },
     "execution_count": 45,
     "metadata": {},
     "output_type": "execute_result"
    }
   ],
   "source": [
    "(1, 2, 3)"
   ]
  },
  {
   "cell_type": "code",
   "execution_count": 46,
   "metadata": {},
   "outputs": [
    {
     "data": {
      "text/plain": [
       "('H', 'e', 'l', 'l', 'o', ' ', 'W', 'o', 'r', 'l', 'd')"
      ]
     },
     "execution_count": 46,
     "metadata": {},
     "output_type": "execute_result"
    }
   ],
   "source": [
    "tuple('Hello World')"
   ]
  },
  {
   "cell_type": "code",
   "execution_count": 47,
   "metadata": {},
   "outputs": [
    {
     "data": {
      "text/plain": [
       "('H', 'e', 'l', 'l', 'o', ' ', 'W', 'o', 'r', 'l', 'd')"
      ]
     },
     "execution_count": 47,
     "metadata": {},
     "output_type": "execute_result"
    }
   ],
   "source": [
    "tuple('Hello World')"
   ]
  },
  {
   "cell_type": "code",
   "execution_count": 48,
   "metadata": {},
   "outputs": [
    {
     "data": {
      "text/plain": [
       "(1, 2, 3)"
      ]
     },
     "execution_count": 48,
     "metadata": {},
     "output_type": "execute_result"
    }
   ],
   "source": [
    "tuple([1, 2, 3])"
   ]
  },
  {
   "cell_type": "code",
   "execution_count": 49,
   "metadata": {},
   "outputs": [
    {
     "data": {
      "text/plain": [
       "(1, 2, 3)"
      ]
     },
     "execution_count": 49,
     "metadata": {},
     "output_type": "execute_result"
    }
   ],
   "source": [
    "tuple({1, 2, 3})"
   ]
  },
  {
   "cell_type": "code",
   "execution_count": 50,
   "metadata": {},
   "outputs": [
    {
     "data": {
      "text/plain": [
       "('a', 'b')"
      ]
     },
     "execution_count": 50,
     "metadata": {},
     "output_type": "execute_result"
    }
   ],
   "source": [
    "tuple({'a': 1, 'b': 2})"
   ]
  },
  {
   "attachments": {},
   "cell_type": "markdown",
   "metadata": {},
   "source": [
    "* Sets: Sets are unordered collections of unique objects. You can use the built-in function `set()` to convert between different data types. For example:"
   ]
  },
  {
   "cell_type": "code",
   "execution_count": 51,
   "metadata": {},
   "outputs": [
    {
     "data": {
      "text/plain": [
       "{1, 2, 3}"
      ]
     },
     "execution_count": 51,
     "metadata": {},
     "output_type": "execute_result"
    }
   ],
   "source": [
    "{1, 2, 3}"
   ]
  },
  {
   "cell_type": "code",
   "execution_count": 52,
   "metadata": {},
   "outputs": [
    {
     "data": {
      "text/plain": [
       "{' ', 'H', 'W', 'd', 'e', 'l', 'o', 'r'}"
      ]
     },
     "execution_count": 52,
     "metadata": {},
     "output_type": "execute_result"
    }
   ],
   "source": [
    "set('Hello World')"
   ]
  },
  {
   "cell_type": "code",
   "execution_count": 53,
   "metadata": {},
   "outputs": [
    {
     "data": {
      "text/plain": [
       "{1, 2, 3}"
      ]
     },
     "execution_count": 53,
     "metadata": {},
     "output_type": "execute_result"
    }
   ],
   "source": [
    "set([1, 2, 3])"
   ]
  },
  {
   "cell_type": "code",
   "execution_count": 54,
   "metadata": {},
   "outputs": [
    {
     "data": {
      "text/plain": [
       "{1, 2, 3}"
      ]
     },
     "execution_count": 54,
     "metadata": {},
     "output_type": "execute_result"
    }
   ],
   "source": [
    "set((1, 2, 3))"
   ]
  },
  {
   "cell_type": "code",
   "execution_count": 55,
   "metadata": {},
   "outputs": [
    {
     "data": {
      "text/plain": [
       "{'a', 'b'}"
      ]
     },
     "execution_count": 55,
     "metadata": {},
     "output_type": "execute_result"
    }
   ],
   "source": [
    "set({'a': 1, 'b': 2})"
   ]
  },
  {
   "attachments": {},
   "cell_type": "markdown",
   "metadata": {},
   "source": [
    "* Dictionary: Dictionaries are unordered collections of key-value pairs. You can use the built-in function `dict()` to convert between different data types. For example:"
   ]
  },
  {
   "cell_type": "code",
   "execution_count": 56,
   "metadata": {},
   "outputs": [
    {
     "data": {
      "text/plain": [
       "{'a': 1, 'b': 2}"
      ]
     },
     "execution_count": 56,
     "metadata": {},
     "output_type": "execute_result"
    }
   ],
   "source": [
    "{'a': 1, 'b': 2}"
   ]
  },
  {
   "cell_type": "code",
   "execution_count": 57,
   "metadata": {},
   "outputs": [
    {
     "data": {
      "text/plain": [
       "{'a': 1, 'b': 2}"
      ]
     },
     "execution_count": 57,
     "metadata": {},
     "output_type": "execute_result"
    }
   ],
   "source": [
    "dict([('a', 1), ('b', 2)])"
   ]
  },
  {
   "cell_type": "code",
   "execution_count": 58,
   "metadata": {},
   "outputs": [
    {
     "data": {
      "text/plain": [
       "{'a': 1, 'b': 2}"
      ]
     },
     "execution_count": 58,
     "metadata": {},
     "output_type": "execute_result"
    }
   ],
   "source": [
    "dict([['a', 1], ['b', 2]])"
   ]
  },
  {
   "cell_type": "code",
   "execution_count": 59,
   "metadata": {},
   "outputs": [
    {
     "data": {
      "text/plain": [
       "{'a': 1, 'b': 2}"
      ]
     },
     "execution_count": 59,
     "metadata": {},
     "output_type": "execute_result"
    }
   ],
   "source": [
    "dict(a=1, b=2)"
   ]
  },
  {
   "cell_type": "code",
   "execution_count": 60,
   "metadata": {},
   "outputs": [
    {
     "data": {
      "text/plain": [
       "{'a': 1, 'b': 2}"
      ]
     },
     "execution_count": 60,
     "metadata": {},
     "output_type": "execute_result"
    }
   ],
   "source": [
    "dict(zip(['a', 'b'], [1, 2]))"
   ]
  },
  {
   "attachments": {},
   "cell_type": "markdown",
   "metadata": {},
   "source": [
    "That's it! You've learned about the basic data types in Python. You can find more information about Python data types [here](https://docs.python.org/3/library/stdtypes.html)."
   ]
  },
  {
   "attachments": {},
   "cell_type": "markdown",
   "metadata": {},
   "source": [
    "### Operators\n",
    "Python supports several built-in operators, including:\n",
    "* Arithmetic operators: +, -, *, /, //, %, **, etc.\n",
    "* Comparison operators: ==, !=, <, >, <=, >=, etc.\n",
    "* Assignment operators: =, +=, -=, *=, /=, //=, %=, **=, etc.\n",
    "* Logical operators: and, or, not\n",
    "* Bitwise operators: &, |, ^, ~, <<, >>\n",
    "\n",
    "Let's explore some of these operators in more detail.\n",
    "\n",
    "#### Arithmetic operators\n",
    "You can use arithmetic operators to perform arithmetic operations on numbers. Here are the most commonly used arithmetic operators in Python:\n",
    "    * Addition: The addition operator `+` adds two or more numbers together. For example, `2 + 3` returns `5`.\n",
    "    * Subtraction: The subtraction operator `-` subtracts two or more numbers. For example, `5 - 3` returns `2`.\n",
    "    * Multiplication: The multiplication operator `*` multiplies two or more numbers. For example, `2 * 3` returns `6`.\n",
    "    * Division: The division operator `/` divides two or more numbers. For example, `5 / 2` returns `2.5`.\n",
    "    * Floor division: The floor division operator `//` divides two or more numbers and returns the floor of the result. For example, `5 // 2` returns `2`.\n",
    "    * Modulus: The modulus operator `%` returns the remainder of the division of two numbers. For example, `5 % 2` returns `1`.\n",
    "    * Exponentiation: The exponentiation operator `**` raises one number to the power of another. For example, `2 ** 3` returns `8`.\n",
    "\n",
    "Here's an example code snippet that demonstrates the use of these arithmetic operators in Python:"
   ]
  },
  {
   "cell_type": "code",
   "execution_count": 61,
   "metadata": {},
   "outputs": [
    {
     "name": "stdout",
     "output_type": "stream",
     "text": [
      "addition: 8\n",
      "subtraction: 2\n",
      "multiplication: 15\n",
      "division: 1.6666666666666667\n",
      "floor division: 1\n",
      "modulus: 2\n",
      "exponent: 125\n"
     ]
    }
   ],
   "source": [
    "# Arithmetic Operators\n",
    "\n",
    "a = 5\n",
    "b = 3\n",
    "\n",
    "print('addition:', a + b)\n",
    "print('subtraction:', a - b)\n",
    "print('multiplication:', a * b)\n",
    "print('division:', a / b)\n",
    "print('floor division:', a // b)\n",
    "print('modulus:', a % b)\n",
    "print('exponent:', a ** b)"
   ]
  },
  {
   "attachments": {},
   "cell_type": "markdown",
   "metadata": {},
   "source": [
    "That's it! You've learned about the most commonly used arithmetic operators in Python. You can find more information about Python arithmetic operators [here](https://docs.python.org/3/library/stdtypes.html#numeric-types-int-float-complex)."
   ]
  },
  {
   "attachments": {},
   "cell_type": "markdown",
   "metadata": {},
   "source": [
    "#### Comparison operators\n",
    "\n",
    "You can use comparison operators to compare two values. Here are the most commonly used comparison operators in Python:\n",
    "    * Equal to: The equal to operator `==` returns True if two values are equal, and False otherwise. For example, `2 == 3` returns `False`.\n",
    "    * Not equal to: The not equal to operator `!=` returns True if two values are not equal, and False otherwise. For example, `2 != 3` returns `True`.\n",
    "    * Less than: The less than operator `<` returns True if the first value is less than the second value, and False otherwise. For example, `2 < 3` returns `True`.\n",
    "    * Greater than: The greater than operator `>` returns True if the first value is greater than the second value, and False otherwise. For example, `2 > 3` returns `False`.\n",
    "    * Less than or equal to: The less than or equal to operator `<=` returns True if the first value is less than or equal to the second value, and False otherwise. For example, `2 <= 3` returns `True`.\n",
    "    * Greater than or equal to: The greater than or equal to operator `>=` returns True if the first value is greater than or equal to the second value, and False otherwise. For example, `2 >= 3` returns `False`.\n",
    "\n",
    "Here's an example code snippet that demonstrates the use of these comparison operators in Python:"
   ]
  },
  {
   "cell_type": "code",
   "execution_count": 62,
   "metadata": {},
   "outputs": [
    {
     "name": "stdout",
     "output_type": "stream",
     "text": [
      "a == b: False\n",
      "a != b: True\n",
      "a < b: True\n",
      "a > b: False\n",
      "a <= b: True\n",
      "a >= b: False\n"
     ]
    }
   ],
   "source": [
    "# Comparison Operators\n",
    "\n",
    "a = 2\n",
    "b = 3\n",
    "print('a == b:', a == b)\n",
    "print('a != b:', a != b)\n",
    "print('a < b:', a < b)\n",
    "print('a > b:', a > b)\n",
    "print('a <= b:', a <= b)\n",
    "print('a >= b:', a >= b)"
   ]
  },
  {
   "attachments": {},
   "cell_type": "markdown",
   "metadata": {},
   "source": [
    "That's it! You've learned about the most commonly used comparison operators in Python. You can find more information about Python comparison operators [here](https://docs.python.org/3/library/stdtypes.html#comparisons)."
   ]
  },
  {
   "attachments": {},
   "cell_type": "markdown",
   "metadata": {},
   "source": [
    "#### Assignment operators\n",
    "\n",
    "You can use assignment operators to assign values to variables. Here are the most commonly used assignment operators in Python:\n",
    "    * Assignment: The assignment operator `=` assigns a value to a variable. For example, `x = 5` assigns the value `5` to the variable `x`.\n",
    "    * Addition assignment: The addition assignment operator `+=` adds a value to a variable and assigns the result to the variable. For example, `x += 5` adds `5` to the variable `x` and assigns the result to `x`.\n",
    "    * Subtraction assignment: The subtraction assignment operator `-=` subtracts a value from a variable and assigns the result to the variable. For example, `x -= 5` subtracts `5` from the variable `x` and assigns the result to `x`.\n",
    "    * Multiplication assignment: The multiplication assignment operator `*=` multiplies a variable by a value and assigns the result to the variable. For example, `x *= 5` multiplies the variable `x` by `5` and assigns the result to `x`.\n",
    "    * Division assignment: The division assignment operator `/=` divides a variable by a value and assigns the result to the variable. For example, `x /= 5` divides the variable `x` by `5` and assigns the result to `x`.\n",
    "    * Floor division assignment: The floor division assignment operator `//=` divides a variable by a value and assigns the floor of the result to the variable. For example, `x //= 5` divides the variable `x` by `5` and assigns the floor of the result to `x`.\n",
    "    * Modulus assignment: The modulus assignment operator `%=` divides a variable by a value and assigns the remainder of the result to the variable. For example, `x %= 5` divides the variable `x` by `5` and assigns the remainder of the result to `x`.\n",
    "    * Exponentiation assignment: The exponentiation assignment operator `**=` raises a variable to the power of a value and assigns the result to the variable. For example, `x **= 5` raises the variable `x` to the power of `5` and assigns the result to `x`.\n",
    "\n",
    "Here's an example code snippet that demonstrates the use of these assignment operators in Python:"
   ]
  },
  {
   "cell_type": "code",
   "execution_count": 63,
   "metadata": {},
   "outputs": [
    {
     "name": "stdout",
     "output_type": "stream",
     "text": [
      "a += 3: 5\n",
      "a -= 3: -1\n",
      "a *= 3: 6\n",
      "a /= 3: 0.6666666666666666\n",
      "a //= 3: 0\n",
      "a %= 3: 2\n",
      "a **= 3: 8\n",
      "a &= 3: 2\n",
      "a |= 3: 3\n",
      "a ^= 3: 1\n",
      "a >>= 3: 0\n",
      "a <<= 3: 16\n"
     ]
    }
   ],
   "source": [
    "## Assigment Operators\n",
    "\n",
    "a = 2\n",
    "a += 3\n",
    "print('a += 3:', a)\n",
    "\n",
    "a = 2\n",
    "a -= 3\n",
    "print('a -= 3:', a)\n",
    "\n",
    "a = 2\n",
    "a *= 3\n",
    "print('a *= 3:', a)\n",
    "\n",
    "a = 2\n",
    "a /= 3\n",
    "print('a /= 3:', a)\n",
    "\n",
    "a = 2\n",
    "a //= 3\n",
    "print('a //= 3:', a)\n",
    "\n",
    "a = 2\n",
    "a %= 3\n",
    "print('a %= 3:', a)\n",
    "\n",
    "a = 2\n",
    "a **= 3\n",
    "print('a **= 3:', a)\n",
    "\n",
    "a = 2\n",
    "a &= 3\n",
    "print('a &= 3:', a)\n",
    "\n",
    "a = 2\n",
    "a |= 3\n",
    "print('a |= 3:', a)\n",
    "\n",
    "a = 2\n",
    "a ^= 3\n",
    "print('a ^= 3:', a)\n",
    "\n",
    "a = 2\n",
    "a >>= 3\n",
    "print('a >>= 3:', a)\n",
    "\n",
    "a = 2\n",
    "a <<= 3\n",
    "print('a <<= 3:', a)"
   ]
  },
  {
   "attachments": {},
   "cell_type": "markdown",
   "metadata": {},
   "source": [
    "#### Logical operators\n",
    "\n",
    "You can use logical operators to combine conditional statements. Here are the most commonly used logical operators in Python:\n",
    "    * And: The and operator `and` returns True if both statements are True, and False otherwise. For example, `2 < 3 and 3 < 4` returns `True`.\n",
    "    * Or: The or operator `or` returns True if either statement is True, and False otherwise. For example, `2 < 3 or 3 > 4` returns `True`.\n",
    "    * Not: The not operator `not` returns the opposite of the statement. For example, `not 2 < 3` returns `False`.\n",
    "\n",
    "Here's an example code snippet that demonstrates the use of these logical operators in Python:"
   ]
  },
  {
   "cell_type": "code",
   "execution_count": 64,
   "metadata": {},
   "outputs": [
    {
     "name": "stdout",
     "output_type": "stream",
     "text": [
      "a and b: False\n",
      "a or b: True\n",
      "not a: False\n"
     ]
    }
   ],
   "source": [
    "# Logical Operators\n",
    "\n",
    "a = True\n",
    "b = False\n",
    "\n",
    "print('a and b:', a and b)\n",
    "print('a or b:', a or b)\n",
    "print('not a:', not a)"
   ]
  },
  {
   "attachments": {},
   "cell_type": "markdown",
   "metadata": {},
   "source": [
    " #### Bitwise operators\n",
    "\n",
    "You can use bitwise operators to perform bitwise operations on numbers. Here are the most commonly used bitwise operators in Python:\n",
    "    * Bitwise AND: The bitwise AND operator `&` returns the bitwise AND of two numbers. For example, `2 & 3` returns `2`.\n",
    "    * Bitwise OR: The bitwise OR operator `|` returns the bitwise OR of two numbers. For example, `2 | 3` returns `3`.\n",
    "    * Bitwise XOR: The bitwise XOR operator `^` returns the bitwise XOR of two numbers. For example, `2 ^ 3` returns `1`.\n",
    "    * Bitwise NOT: The bitwise NOT operator `~` returns the bitwise NOT of a number. For example, `~2` returns `-3`.\n",
    "    * Bitwise left shift: The bitwise left shift operator `<<` returns the bitwise left shift of a number. For example, `2 << 3` returns `16`.\n",
    "    * Bitwise right shift: The bitwise right shift operator `>>` returns the bitwise right shift of a number. For example, `2 >> 3` returns `0`.\n",
    "\n",
    "Here's an example code snippet that demonstrates the use of these bitwise operators in Python:"
   ]
  },
  {
   "cell_type": "code",
   "execution_count": 65,
   "metadata": {},
   "outputs": [
    {
     "name": "stdout",
     "output_type": "stream",
     "text": [
      "a & b: 2\n",
      "a | b: 3\n",
      "a ^ b: 1\n",
      "~a: -3\n",
      "a << 1: 4\n",
      "a >> 1: 1\n"
     ]
    }
   ],
   "source": [
    "# Bitwise Operators\n",
    "\n",
    "a = 2\n",
    "b = 3\n",
    "\n",
    "print('a & b:', a & b)\n",
    "print('a | b:', a | b)\n",
    "print('a ^ b:', a ^ b)\n",
    "print('~a:', ~a)\n",
    "print('a << 1:', a << 1)\n",
    "print('a >> 1:', a >> 1)"
   ]
  },
  {
   "attachments": {},
   "cell_type": "markdown",
   "metadata": {},
   "source": [
    "### Operator precedence\n",
    "\n",
    "Operator precedence determines the order in which operators are evaluated. For example, the expression `2 + 3 * 4` is evaluated as `(2 + 3) * 4` because the multiplication operator has a higher precedence than the addition operator. You can find a list of all Python operators and their precedence [here](https://docs.python.org/3/reference/expressions.html#operator-precedence).\n"
   ]
  },
  {
   "attachments": {},
   "cell_type": "markdown",
   "metadata": {},
   "source": [
    "### Operator Overloading\n",
    "\n",
    "Operator overloading is a special feature in Python that allows you to use operators with user-defined classes. For example, you can use the addition operator `+` to add two objects of a user-defined class. You can find more information about operator overloading in Python [here](https://www.geeksforgeeks.org/operator-overloading-in-python/).\n",
    "\n",
    "Here's an example code snippet that demonstrates the use of operator overloading in Python:"
   ]
  },
  {
   "cell_type": "code",
   "execution_count": 68,
   "metadata": {},
   "outputs": [
    {
     "name": "stdout",
     "output_type": "stream",
     "text": [
      "a + b: 5\n",
      "a.__add__(b): 5\n",
      "a + b: HelloWorld\n",
      "a.__add__(b): HelloWorld\n",
      "a + b: [1, 2, 3, 4, 5, 6]\n",
      "a.__add__(b): [1, 2, 3, 4, 5, 6]\n",
      "a + b: (1, 2, 3, 4, 5, 6)\n",
      "a.__add__(b): (1, 2, 3, 4, 5, 6)\n"
     ]
    }
   ],
   "source": [
    "# Operator Overloading\n",
    "\n",
    "a = 2\n",
    "b = 3\n",
    "print('a + b:', a + b)\n",
    "print('a.__add__(b):', a.__add__(b))\n",
    "\n",
    "a = 'Hello'\n",
    "b = 'World'\n",
    "print('a + b:', a + b)\n",
    "print('a.__add__(b):', a.__add__(b))\n",
    "\n",
    "a = [1, 2, 3]\n",
    "b = [4, 5, 6]\n",
    "print('a + b:', a + b)\n",
    "print('a.__add__(b):', a.__add__(b))\n",
    "\n",
    "a = (1, 2, 3)\n",
    "b = (4, 5, 6)\n",
    "print('a + b:', a + b)\n",
    "print('a.__add__(b):', a.__add__(b))"
   ]
  },
  {
   "attachments": {},
   "cell_type": "markdown",
   "metadata": {},
   "source": [
    "### Objects vs. Types vs. Values\n",
    "\n",
    "Python is a so-called **object-oriented** language, wich is a paradigm of organizing a program's memory.\n",
    "\n",
    "An **object** may be viewed as a \"bag\" of 0 and 1 in a given memory location. The 0's and 1's in a bag make up the object's **value**. There exist different **types** of bags, and each type comes with its own set of rules for how to interpret the 0's and 1's in the bag. For example, a bag of 0's and 1's that represents a number is of type `int`, and a bag of 0's and 1's that represents a string is of type `str`.\n",
    "\n",
    "So, an object _always_ has three main characteristics:\n",
    "    * A **type** (e.g. `int`, `str`, `list`, etc.)\n",
    "    * A **value** (e.g. `5`, `\"Hello\"`, `[1, 2, 3]`, etc.)\n",
    "    * A **memory location** (e.g. `0x7f9c8c0a8a90`)\n",
    "\n",
    "#### Identity / Memory Location\n",
    "\n",
    "The built-in function `id()` returns object's address in memory. For example:"
   ]
  },
  {
   "cell_type": "code",
   "execution_count": 74,
   "metadata": {},
   "outputs": [
    {
     "name": "stdout",
     "output_type": "stream",
     "text": [
      "4311523120\n",
      "4311523120\n"
     ]
    }
   ],
   "source": [
    "# Identity / Memory Location\n",
    "\n",
    "a = 2\n",
    "b = 2\n",
    "\n",
    "print(id(a))\n",
    "print(id(b))"
   ]
  },
  {
   "attachments": {},
   "cell_type": "markdown",
   "metadata": {},
   "source": [
    "Why a=2 and b=2 have same memory location? Because they are both integers and they are immutable. So, Python will not create two different objects for them. Instead, it will create one object and assign it to both a and b."
   ]
  },
  {
   "attachments": {},
   "cell_type": "markdown",
   "metadata": {},
   "source": [
    "These addresses are not meaningful for anything other than checking if two variables point to the same object. For example, you can use the `is` operator to check if two variables point to the same object. For example:"
   ]
  },
  {
   "cell_type": "code",
   "execution_count": 75,
   "metadata": {},
   "outputs": [
    {
     "name": "stdout",
     "output_type": "stream",
     "text": [
      "a is b: True\n",
      "a is not b: False\n",
      "4416271104\n",
      "4416264576\n",
      "a is b: False\n",
      "a is not b: True\n",
      "4416136256\n",
      "4416136256\n",
      "a is b: True\n",
      "a is not b: False\n"
     ]
    }
   ],
   "source": [
    "a = 2\n",
    "b = 2\n",
    "\n",
    "print('a is b:', a is b)\n",
    "print('a is not b:', a is not b)\n",
    "\n",
    "a = [1, 2, 3]\n",
    "b = [1, 2, 3]\n",
    "\n",
    "print(id(a))\n",
    "print(id(b))\n",
    "\n",
    "print('a is b:', a is b)\n",
    "print('a is not b:', a is not b)\n",
    "\n",
    "a = [1, 2, 3]\n",
    "b = a\n",
    "\n",
    "print(id(a))\n",
    "print(id(b))\n",
    "\n",
    "print('a is b:', a is b)\n",
    "print('a is not b:', a is not b)"
   ]
  },
  {
   "attachments": {},
   "cell_type": "markdown",
   "metadata": {},
   "source": [
    "#### Type / Behavior\n",
    "\n",
    "The built-in function `type()` returns the type of an object. For example, `type(5)` returns `<class 'int'>`. You can find a list of all Python types [here](https://docs.python.org/3/library/stdtypes.html)."
   ]
  },
  {
   "attachments": {},
   "cell_type": "markdown",
   "metadata": {},
   "source": [
    "Different types imply different behaviors. THe `b` object, for example, may be \"asked\" it it is a whole number with the `is_integer()` \"funcionality\" that comes with every `float` object. \n",
    "\n",
    "Formally, we call such type-specific functionalities **methods**. You can find a list of all Python methods [here](https://docs.python.org/3/library/stdtypes.html). For now, it suffices to kwnow that we acceess them the **dot operator** `.` on the object."
   ]
  },
  {
   "cell_type": "code",
   "execution_count": 78,
   "metadata": {},
   "outputs": [
    {
     "data": {
      "text/plain": [
       "True"
      ]
     },
     "execution_count": 78,
     "metadata": {},
     "output_type": "execute_result"
    }
   ],
   "source": [
    "a = 1.0\n",
    "a.is_integer()"
   ]
  },
  {
   "attachments": {},
   "cell_type": "markdown",
   "metadata": {},
   "source": [
    "For an `int` object, this `.is_integer()` check does not make sense as we already know it is `int`: We see the `AttributeError` below because the `int` type does not have the `is_integer()` method."
   ]
  },
  {
   "cell_type": "code",
   "execution_count": 79,
   "metadata": {},
   "outputs": [
    {
     "ename": "AttributeError",
     "evalue": "'int' object has no attribute 'is_integer'",
     "output_type": "error",
     "traceback": [
      "\u001b[0;31m---------------------------------------------------------------------------\u001b[0m",
      "\u001b[0;31mAttributeError\u001b[0m                            Traceback (most recent call last)",
      "Cell \u001b[0;32mIn[79], line 2\u001b[0m\n\u001b[1;32m      1\u001b[0m b \u001b[39m=\u001b[39m \u001b[39m1\u001b[39m\n\u001b[0;32m----> 2\u001b[0m b\u001b[39m.\u001b[39;49mis_integer()\n",
      "\u001b[0;31mAttributeError\u001b[0m: 'int' object has no attribute 'is_integer'"
     ]
    }
   ],
   "source": [
    "b = 1\n",
    "b.is_integer()"
   ]
  },
  {
   "attachments": {},
   "cell_type": "markdown",
   "metadata": {},
   "source": [
    "If the object is a **string**. Strings also come with peculiar methods, such as `.upper()` and `.lower()`."
   ]
  },
  {
   "cell_type": "code",
   "execution_count": 80,
   "metadata": {},
   "outputs": [
    {
     "name": "stdout",
     "output_type": "stream",
     "text": [
      "hello word\n",
      "HELLO WORD\n"
     ]
    }
   ],
   "source": [
    "c = 'Hello word'\n",
    "print(c.lower())\n",
    "print(c.upper())"
   ]
  },
  {
   "attachments": {},
   "cell_type": "markdown",
   "metadata": {},
   "source": [
    "#### Value / Meaning\n",
    "\n",
    "Almost trivially, every object also has a value to which it evaluates when referenced. We think of the value as the conceptual idea of what the 0s and 1s in the bag mean to humans. In other words, an object's value regards its semantic meaning.\n",
    "\n",
    "For built-in data types, Python prints out an object's value as a so-called [literal](https://docs.python.org/3/reference/lexical_analysis.html#literals) : This means that we may copy and paste the value back into a code cell and create a new object with the same value."
   ]
  },
  {
   "cell_type": "code",
   "execution_count": 81,
   "metadata": {},
   "outputs": [
    {
     "data": {
      "text/plain": [
       "2"
      ]
     },
     "execution_count": 81,
     "metadata": {},
     "output_type": "execute_result"
    }
   ],
   "source": [
    "a = 2\n",
    "a"
   ]
  },
  {
   "cell_type": "code",
   "execution_count": 82,
   "metadata": {},
   "outputs": [
    {
     "data": {
      "text/plain": [
       "'Hello World'"
      ]
     },
     "execution_count": 82,
     "metadata": {},
     "output_type": "execute_result"
    }
   ],
   "source": [
    "b = \"Hello World\"\n",
    "b"
   ]
  },
  {
   "cell_type": "code",
   "execution_count": null,
   "metadata": {},
   "outputs": [],
   "source": []
  }
 ],
 "metadata": {
  "kernelspec": {
   "display_name": "Python 3",
   "language": "python",
   "name": "python3"
  },
  "language_info": {
   "codemirror_mode": {
    "name": "ipython",
    "version": 3
   },
   "file_extension": ".py",
   "mimetype": "text/x-python",
   "name": "python",
   "nbconvert_exporter": "python",
   "pygments_lexer": "ipython3",
   "version": "3.11.0"
  },
  "orig_nbformat": 4,
  "vscode": {
   "interpreter": {
    "hash": "5c7b89af1651d0b8571dde13640ecdccf7d5a6204171d6ab33e7c296e100e08a"
   }
  }
 },
 "nbformat": 4,
 "nbformat_minor": 2
}
