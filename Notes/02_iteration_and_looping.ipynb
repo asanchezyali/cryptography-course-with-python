{
 "cells": [
  {
   "attachments": {},
   "cell_type": "markdown",
   "metadata": {},
   "source": [
    "# Iteranting and Looping in Python"
   ]
  },
  {
   "attachments": {},
   "cell_type": "markdown",
   "metadata": {},
   "source": [
    "Python provides a number of ways to iterate over data structures. In this notebook, we will cover the most common ones. The most common way to iterate over a a sequence is using a for loop. The for loop in Python is used to iterate over a sequence (list, tuple, string) or other iterable objects. Iterating over a sequence is called traversal. Here is an example of a for loop over a list of numbers:\n"
   ]
  },
  {
   "cell_type": "code",
   "execution_count": 1,
   "metadata": {},
   "outputs": [
    {
     "name": "stdout",
     "output_type": "stream",
     "text": [
      "1\n",
      "2\n",
      "3\n",
      "4\n",
      "5\n"
     ]
    }
   ],
   "source": [
    "numbers = [1, 2, 3, 4, 5]\n",
    "for number in numbers:\n",
    "    print(number)"
   ]
  },
  {
   "attachments": {},
   "cell_type": "markdown",
   "metadata": {},
   "source": [
    "In this examples, `number` is the loop variable that is assigned to each element in the `numbers` list on each iteration. The loop variable is assigned to the next element in the sequence on each iteration until the sequence is exhausted. The loop body consists of a single print statement that prints the value of the loop variable. The loop body is executed once for each element in the sequence.\n",
    "\n",
    "Another common way to iterate over a sequence is using a while loop. The while loop in Python is used to iterate over a block of code as long as the test expression (condition) is true. Here is an example of a while loop over a list of numbers:"
   ]
  },
  {
   "cell_type": "code",
   "execution_count": 2,
   "metadata": {},
   "outputs": [
    {
     "name": "stdout",
     "output_type": "stream",
     "text": [
      "1\n",
      "2\n",
      "3\n",
      "4\n",
      "5\n"
     ]
    }
   ],
   "source": [
    "numbers = [1, 2, 3, 4, 5]\n",
    "number = 0\n",
    "while number < len(numbers):\n",
    "    print(numbers[number])\n",
    "    number += 1"
   ]
  },
  {
   "attachments": {},
   "cell_type": "markdown",
   "metadata": {},
   "source": [
    "This will output the same result as the previous example. \n",
    "\n",
    "In this example, we use a while loop instead of a for loop to iterate over the numbers list. We initialize a variable i to 0, which we use to index into the numbers list. On each iteration of the loop, we print the value at the current index, and then increment i by 1 to move to the next element in the list. The loop continues until i is equal to the length of the numbers list."
   ]
  },
  {
   "cell_type": "markdown",
   "metadata": {},
   "source": []
  }
 ],
 "metadata": {
  "kernelspec": {
   "display_name": "Python 3",
   "language": "python",
   "name": "python3"
  },
  "language_info": {
   "codemirror_mode": {
    "name": "ipython",
    "version": 3
   },
   "file_extension": ".py",
   "mimetype": "text/x-python",
   "name": "python",
   "nbconvert_exporter": "python",
   "pygments_lexer": "ipython3",
   "version": "3.11.0"
  },
  "orig_nbformat": 4,
  "vscode": {
   "interpreter": {
    "hash": "5c7b89af1651d0b8571dde13640ecdccf7d5a6204171d6ab33e7c296e100e08a"
   }
  }
 },
 "nbformat": 4,
 "nbformat_minor": 2
}
